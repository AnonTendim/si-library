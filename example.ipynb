{
 "cells": [
  {
   "cell_type": "code",
   "execution_count": 1,
   "id": "75fd8818",
   "metadata": {},
   "outputs": [],
   "source": [
    "import preprocessing.utils.preprocessing_utils"
   ]
  },
  {
   "cell_type": "code",
   "execution_count": 13,
   "id": "224636a0",
   "metadata": {},
   "outputs": [],
   "source": [
    "filename = \"data/sample_policing_input.xlsx\"\n",
    "df, id_to_covariates = preprocessing.utils.preprocessing_utils.import_excel(filename)\n",
    "tensor = preprocessing.utils.preprocessing_utils.convert_to_tensor(df) # (N × T x D x M) tensor"
   ]
  },
  {
   "cell_type": "code",
   "execution_count": 20,
   "id": "8f94643a",
   "metadata": {
    "scrolled": true
   },
   "outputs": [
    {
     "data": {
      "text/html": [
       "<div>\n",
       "<style scoped>\n",
       "    .dataframe tbody tr th:only-of-type {\n",
       "        vertical-align: middle;\n",
       "    }\n",
       "\n",
       "    .dataframe tbody tr th {\n",
       "        vertical-align: top;\n",
       "    }\n",
       "\n",
       "    .dataframe thead th {\n",
       "        text-align: right;\n",
       "    }\n",
       "</style>\n",
       "<table border=\"1\" class=\"dataframe\">\n",
       "  <thead>\n",
       "    <tr style=\"text-align: right;\">\n",
       "      <th></th>\n",
       "      <th>unit</th>\n",
       "      <th>time</th>\n",
       "      <th>intervention</th>\n",
       "      <th>force</th>\n",
       "      <th>complaint</th>\n",
       "    </tr>\n",
       "  </thead>\n",
       "  <tbody>\n",
       "    <tr>\n",
       "      <th>0</th>\n",
       "      <td>0</td>\n",
       "      <td>0</td>\n",
       "      <td>0</td>\n",
       "      <td>1</td>\n",
       "      <td>2</td>\n",
       "    </tr>\n",
       "    <tr>\n",
       "      <th>1</th>\n",
       "      <td>0</td>\n",
       "      <td>0</td>\n",
       "      <td>1</td>\n",
       "      <td>3</td>\n",
       "      <td>4</td>\n",
       "    </tr>\n",
       "    <tr>\n",
       "      <th>2</th>\n",
       "      <td>0</td>\n",
       "      <td>0</td>\n",
       "      <td>2</td>\n",
       "      <td>5</td>\n",
       "      <td>6</td>\n",
       "    </tr>\n",
       "    <tr>\n",
       "      <th>3</th>\n",
       "      <td>0</td>\n",
       "      <td>1</td>\n",
       "      <td>0</td>\n",
       "      <td>7</td>\n",
       "      <td>8</td>\n",
       "    </tr>\n",
       "    <tr>\n",
       "      <th>4</th>\n",
       "      <td>0</td>\n",
       "      <td>1</td>\n",
       "      <td>1</td>\n",
       "      <td>9</td>\n",
       "      <td>10</td>\n",
       "    </tr>\n",
       "    <tr>\n",
       "      <th>5</th>\n",
       "      <td>0</td>\n",
       "      <td>1</td>\n",
       "      <td>2</td>\n",
       "      <td>11</td>\n",
       "      <td>12</td>\n",
       "    </tr>\n",
       "    <tr>\n",
       "      <th>6</th>\n",
       "      <td>0</td>\n",
       "      <td>2</td>\n",
       "      <td>0</td>\n",
       "      <td>13</td>\n",
       "      <td>14</td>\n",
       "    </tr>\n",
       "    <tr>\n",
       "      <th>7</th>\n",
       "      <td>0</td>\n",
       "      <td>2</td>\n",
       "      <td>1</td>\n",
       "      <td>15</td>\n",
       "      <td>16</td>\n",
       "    </tr>\n",
       "    <tr>\n",
       "      <th>8</th>\n",
       "      <td>0</td>\n",
       "      <td>2</td>\n",
       "      <td>2</td>\n",
       "      <td>17</td>\n",
       "      <td>18</td>\n",
       "    </tr>\n",
       "    <tr>\n",
       "      <th>9</th>\n",
       "      <td>1</td>\n",
       "      <td>0</td>\n",
       "      <td>0</td>\n",
       "      <td>19</td>\n",
       "      <td>20</td>\n",
       "    </tr>\n",
       "    <tr>\n",
       "      <th>10</th>\n",
       "      <td>1</td>\n",
       "      <td>0</td>\n",
       "      <td>1</td>\n",
       "      <td>21</td>\n",
       "      <td>22</td>\n",
       "    </tr>\n",
       "    <tr>\n",
       "      <th>11</th>\n",
       "      <td>1</td>\n",
       "      <td>0</td>\n",
       "      <td>2</td>\n",
       "      <td>23</td>\n",
       "      <td>24</td>\n",
       "    </tr>\n",
       "    <tr>\n",
       "      <th>12</th>\n",
       "      <td>1</td>\n",
       "      <td>1</td>\n",
       "      <td>0</td>\n",
       "      <td>25</td>\n",
       "      <td>26</td>\n",
       "    </tr>\n",
       "    <tr>\n",
       "      <th>13</th>\n",
       "      <td>1</td>\n",
       "      <td>1</td>\n",
       "      <td>1</td>\n",
       "      <td>27</td>\n",
       "      <td>28</td>\n",
       "    </tr>\n",
       "    <tr>\n",
       "      <th>14</th>\n",
       "      <td>1</td>\n",
       "      <td>1</td>\n",
       "      <td>2</td>\n",
       "      <td>29</td>\n",
       "      <td>30</td>\n",
       "    </tr>\n",
       "    <tr>\n",
       "      <th>15</th>\n",
       "      <td>1</td>\n",
       "      <td>2</td>\n",
       "      <td>0</td>\n",
       "      <td>31</td>\n",
       "      <td>32</td>\n",
       "    </tr>\n",
       "    <tr>\n",
       "      <th>16</th>\n",
       "      <td>1</td>\n",
       "      <td>2</td>\n",
       "      <td>1</td>\n",
       "      <td>33</td>\n",
       "      <td>34</td>\n",
       "    </tr>\n",
       "    <tr>\n",
       "      <th>17</th>\n",
       "      <td>1</td>\n",
       "      <td>2</td>\n",
       "      <td>2</td>\n",
       "      <td>35</td>\n",
       "      <td>36</td>\n",
       "    </tr>\n",
       "    <tr>\n",
       "      <th>18</th>\n",
       "      <td>2</td>\n",
       "      <td>0</td>\n",
       "      <td>0</td>\n",
       "      <td>37</td>\n",
       "      <td>38</td>\n",
       "    </tr>\n",
       "    <tr>\n",
       "      <th>19</th>\n",
       "      <td>2</td>\n",
       "      <td>0</td>\n",
       "      <td>1</td>\n",
       "      <td>39</td>\n",
       "      <td>40</td>\n",
       "    </tr>\n",
       "    <tr>\n",
       "      <th>20</th>\n",
       "      <td>2</td>\n",
       "      <td>0</td>\n",
       "      <td>2</td>\n",
       "      <td>41</td>\n",
       "      <td>42</td>\n",
       "    </tr>\n",
       "    <tr>\n",
       "      <th>21</th>\n",
       "      <td>2</td>\n",
       "      <td>1</td>\n",
       "      <td>0</td>\n",
       "      <td>43</td>\n",
       "      <td>44</td>\n",
       "    </tr>\n",
       "    <tr>\n",
       "      <th>22</th>\n",
       "      <td>2</td>\n",
       "      <td>1</td>\n",
       "      <td>1</td>\n",
       "      <td>45</td>\n",
       "      <td>46</td>\n",
       "    </tr>\n",
       "    <tr>\n",
       "      <th>23</th>\n",
       "      <td>2</td>\n",
       "      <td>1</td>\n",
       "      <td>2</td>\n",
       "      <td>47</td>\n",
       "      <td>48</td>\n",
       "    </tr>\n",
       "    <tr>\n",
       "      <th>24</th>\n",
       "      <td>2</td>\n",
       "      <td>2</td>\n",
       "      <td>0</td>\n",
       "      <td>49</td>\n",
       "      <td>50</td>\n",
       "    </tr>\n",
       "    <tr>\n",
       "      <th>25</th>\n",
       "      <td>2</td>\n",
       "      <td>2</td>\n",
       "      <td>1</td>\n",
       "      <td>51</td>\n",
       "      <td>52</td>\n",
       "    </tr>\n",
       "    <tr>\n",
       "      <th>26</th>\n",
       "      <td>2</td>\n",
       "      <td>2</td>\n",
       "      <td>2</td>\n",
       "      <td>53</td>\n",
       "      <td>54</td>\n",
       "    </tr>\n",
       "  </tbody>\n",
       "</table>\n",
       "</div>"
      ],
      "text/plain": [
       "    unit  time  intervention  force  complaint\n",
       "0      0     0             0      1          2\n",
       "1      0     0             1      3          4\n",
       "2      0     0             2      5          6\n",
       "3      0     1             0      7          8\n",
       "4      0     1             1      9         10\n",
       "5      0     1             2     11         12\n",
       "6      0     2             0     13         14\n",
       "7      0     2             1     15         16\n",
       "8      0     2             2     17         18\n",
       "9      1     0             0     19         20\n",
       "10     1     0             1     21         22\n",
       "11     1     0             2     23         24\n",
       "12     1     1             0     25         26\n",
       "13     1     1             1     27         28\n",
       "14     1     1             2     29         30\n",
       "15     1     2             0     31         32\n",
       "16     1     2             1     33         34\n",
       "17     1     2             2     35         36\n",
       "18     2     0             0     37         38\n",
       "19     2     0             1     39         40\n",
       "20     2     0             2     41         42\n",
       "21     2     1             0     43         44\n",
       "22     2     1             1     45         46\n",
       "23     2     1             2     47         48\n",
       "24     2     2             0     49         50\n",
       "25     2     2             1     51         52\n",
       "26     2     2             2     53         54"
      ]
     },
     "execution_count": 20,
     "metadata": {},
     "output_type": "execute_result"
    }
   ],
   "source": [
    "df"
   ]
  },
  {
   "cell_type": "code",
   "execution_count": 14,
   "id": "0961ef5f",
   "metadata": {
    "scrolled": true
   },
   "outputs": [
    {
     "data": {
      "text/plain": [
       "array([[[[ 1.,  2.],\n",
       "         [ 3.,  4.],\n",
       "         [ 5.,  6.]],\n",
       "\n",
       "        [[ 7.,  8.],\n",
       "         [ 9., 10.],\n",
       "         [11., 12.]],\n",
       "\n",
       "        [[13., 14.],\n",
       "         [15., 16.],\n",
       "         [17., 18.]]],\n",
       "\n",
       "\n",
       "       [[[19., 20.],\n",
       "         [21., 22.],\n",
       "         [23., 24.]],\n",
       "\n",
       "        [[25., 26.],\n",
       "         [27., 28.],\n",
       "         [29., 30.]],\n",
       "\n",
       "        [[31., 32.],\n",
       "         [33., 34.],\n",
       "         [35., 36.]]],\n",
       "\n",
       "\n",
       "       [[[37., 38.],\n",
       "         [39., 40.],\n",
       "         [41., 42.]],\n",
       "\n",
       "        [[43., 44.],\n",
       "         [45., 46.],\n",
       "         [47., 48.]],\n",
       "\n",
       "        [[49., 50.],\n",
       "         [51., 52.],\n",
       "         [53., 54.]]]])"
      ]
     },
     "execution_count": 14,
     "metadata": {},
     "output_type": "execute_result"
    }
   ],
   "source": [
    "tensor"
   ]
  },
  {
   "cell_type": "code",
   "execution_count": 15,
   "id": "4ec55cb1",
   "metadata": {},
   "outputs": [
    {
     "data": {
      "text/plain": [
       "{'Unit covariates': {0: {'precinct': 1},\n",
       "  1: {'precinct': 2},\n",
       "  2: {'precinct': 3}},\n",
       " 'Time covariates': {0: {'date': Timestamp('2020-01-01 00:00:00')},\n",
       "  1: {'date': Timestamp('2020-01-02 00:00:00')},\n",
       "  2: {'date': Timestamp('2020-01-03 00:00:00')}},\n",
       " 'Intervention covariates': {0: {'race': 'black'},\n",
       "  1: {'race': 'white'},\n",
       "  2: {'race': 'hispanic'}}}"
      ]
     },
     "execution_count": 15,
     "metadata": {},
     "output_type": "execute_result"
    }
   ],
   "source": [
    "id_to_covariates"
   ]
  },
  {
   "cell_type": "code",
   "execution_count": 16,
   "id": "97b8bdcc",
   "metadata": {},
   "outputs": [
    {
     "name": "stdout",
     "output_type": "stream",
     "text": [
      "-----Get tensor time slice-----\n",
      "[[[ 7.  9. 11.]\n",
      "  [13. 15. 17.]]\n",
      "\n",
      " [[25. 27. 29.]\n",
      "  [31. 33. 35.]]\n",
      "\n",
      " [[43. 45. 47.]\n",
      "  [49. 51. 53.]]]\n"
     ]
    }
   ],
   "source": [
    "print(\"-----Get tensor time slice-----\")\n",
    "# select index 1 and 2 of time(2nd) axis and index 1 of outcome(4th) axis\n",
    "print(preprocessing.utils.preprocessing_utils.get_tensor_time_slice(tensor, 1, 3, 0))"
   ]
  },
  {
   "cell_type": "code",
   "execution_count": 17,
   "id": "b79df632",
   "metadata": {},
   "outputs": [
    {
     "name": "stdout",
     "output_type": "stream",
     "text": [
      "-----Get tensor intervention slice-----\n",
      "[[ 3.  9. 15.]\n",
      " [21. 27. 33.]\n",
      " [39. 45. 51.]]\n"
     ]
    }
   ],
   "source": [
    "print(\"-----Get tensor intervention slice-----\")\n",
    "print(preprocessing.utils.preprocessing_utils.get_tensor_intervention_slice(tensor, 1, 0))"
   ]
  },
  {
   "cell_type": "code",
   "execution_count": 18,
   "id": "e5ca3bcc",
   "metadata": {},
   "outputs": [
    {
     "name": "stdout",
     "output_type": "stream",
     "text": [
      "-----Get tensor intervention slices-----\n",
      "[[[ 1.  7. 13.]\n",
      "  [19. 25. 31.]\n",
      "  [37. 43. 49.]]\n",
      "\n",
      " [[ 3.  9. 15.]\n",
      "  [21. 27. 33.]\n",
      "  [39. 45. 51.]]\n",
      "\n",
      " [[ 5. 11. 17.]\n",
      "  [23. 29. 35.]\n",
      "  [41. 47. 53.]]]\n"
     ]
    }
   ],
   "source": [
    "print(\"-----Get tensor intervention slices-----\")\n",
    "print(preprocessing.utils.preprocessing_utils.get_tensor_intervention_slices(tensor, 0))"
   ]
  },
  {
   "cell_type": "code",
   "execution_count": 21,
   "id": "84b51abd",
   "metadata": {},
   "outputs": [
    {
     "name": "stdout",
     "output_type": "stream",
     "text": [
      "-----Get tensor time_intervention_slice-----\n",
      "[[ 7. 13.]\n",
      " [25. 31.]\n",
      " [43. 49.]]\n"
     ]
    }
   ],
   "source": [
    "print(\"-----Get tensor time_intervention_slice-----\")\n",
    "print(preprocessing.utils.preprocessing_utils.get_tensor_time_intervention_slice(tensor, 1, 3, 0, 0))"
   ]
  },
  {
   "cell_type": "code",
   "execution_count": 19,
   "id": "077e5632",
   "metadata": {},
   "outputs": [
    {
     "name": "stdout",
     "output_type": "stream",
     "text": [
      "-----Get tensor time_intervention_slices-----\n",
      "[[[ 7. 13.]\n",
      "  [25. 31.]\n",
      "  [43. 49.]]\n",
      "\n",
      " [[ 9. 15.]\n",
      "  [27. 33.]\n",
      "  [45. 51.]]\n",
      "\n",
      " [[11. 17.]\n",
      "  [29. 35.]\n",
      "  [47. 53.]]]\n"
     ]
    }
   ],
   "source": [
    "print(\"-----Get tensor time_intervention_slices-----\")\n",
    "print(preprocessing.utils.preprocessing_utils.get_tensor_time_intervention_slices(tensor, 1, 3, 0))"
   ]
  },
  {
   "cell_type": "code",
   "execution_count": null,
   "id": "4882ceb9",
   "metadata": {},
   "outputs": [],
   "source": []
  },
  {
   "cell_type": "code",
   "execution_count": null,
   "id": "d0b35919",
   "metadata": {},
   "outputs": [],
   "source": []
  }
 ],
 "metadata": {
  "kernelspec": {
   "display_name": "Python 3",
   "language": "python",
   "name": "python3"
  },
  "language_info": {
   "codemirror_mode": {
    "name": "ipython",
    "version": 3
   },
   "file_extension": ".py",
   "mimetype": "text/x-python",
   "name": "python",
   "nbconvert_exporter": "python",
   "pygments_lexer": "ipython3",
   "version": "3.9.4"
  }
 },
 "nbformat": 4,
 "nbformat_minor": 5
}
