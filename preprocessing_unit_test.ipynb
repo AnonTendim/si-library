{
 "cells": [
  {
   "cell_type": "code",
   "execution_count": 1,
   "id": "d7d3ff2a",
   "metadata": {},
   "outputs": [],
   "source": [
    "import preprocessing.utils.preprocessing_utils"
   ]
  },
  {
   "cell_type": "markdown",
   "id": "5695c5f2",
   "metadata": {},
   "source": [
    "# Preprocessing basics\n",
    "1. Enter filename\n",
    "2. Import file\n",
    "3. Convert data to tensor"
   ]
  },
  {
   "cell_type": "code",
   "execution_count": 2,
   "id": "c8b5a9e0",
   "metadata": {
    "scrolled": false
   },
   "outputs": [],
   "source": [
    "# a correct example\n",
    "filename = \"data/sample_policing_input.xlsx\"\n",
    "df, id_to_covariates = preprocessing.utils.preprocessing_utils.import_excel(filename)\n",
    "tensor = preprocessing.utils.preprocessing_utils.convert_to_tensor(df) # "
   ]
  },
  {
   "cell_type": "markdown",
   "id": "d29ae156",
   "metadata": {},
   "source": [
    "tenor is an instance of Tensor class with\n",
    "- data: (N × T x D x M) Numpy array\n",
    "- method print_info: basic summary of data\n",
    "- method print_table: table view of data"
   ]
  },
  {
   "cell_type": "markdown",
   "id": "4ca731b5",
   "metadata": {},
   "source": [
    "## Method print_info(verbose)\n",
    "- verbose = False by default \n",
    "- prints information about number and list of units, timestamps, interventions and outcomes\n",
    "- for each outcome variable, if verbose = False (True), show statistics (list) of units of which data is available under a timestamp (intervention). Note that data is considered available if having value under any intervention (timestamp) for that timestamp (intervention))"
   ]
  },
  {
   "cell_type": "code",
   "execution_count": 3,
   "id": "4a65f439",
   "metadata": {},
   "outputs": [
    {
     "name": "stdout",
     "output_type": "stream",
     "text": [
      "                               Summary of Data                                               \n",
      "==============================================================================\n",
      "No. units: 3    List of units: [0, 1, 2]\n",
      "No. measurements: 6    List of measurements: [1, 2, 5, 0, 3, 4]\n",
      "No. interventions: 4    List of interventions: [1, 2, 5, 0]\n",
      "No. outcomes: 2    List of outcomes: [force, complaint]\n",
      "==============================================================================\n",
      "                           Units under Measurements                                                   \n",
      "------------------------------------------------------------------------------\n",
      "                                    force                                          \n",
      "------------------------------------------------------------------------------\n",
      "Statistics of number of units under a measurement:\n",
      "Max: 3 units    Median: 1 units    Min: 1 units    Mean: 1.67 units\n",
      "------------------------------------------------------------------------------\n",
      "                                  complaint                                            \n",
      "------------------------------------------------------------------------------\n",
      "Statistics of number of units under a measurement:\n",
      "Max: 3 units    Median: 1 units    Min: 1 units    Mean: 1.83 units\n",
      "==============================================================================\n",
      "                          Units under Interventions                                                    \n",
      "------------------------------------------------------------------------------\n",
      "                                    force                                          \n",
      "------------------------------------------------------------------------------\n",
      "Statistics of number of units under a intervention:\n",
      "Max: 3 units    Median: 2 units    Min: 2 units    Mean: 2.50 units\n",
      "------------------------------------------------------------------------------\n",
      "                                  complaint                                            \n",
      "------------------------------------------------------------------------------\n",
      "Statistics of number of units under a intervention:\n",
      "Max: 3 units    Median: 3 units    Min: 2 units    Mean: 2.75 units\n"
     ]
    }
   ],
   "source": [
    "# verbose is set to be False by default to print succinct information\n",
    "tensor.print_info()"
   ]
  },
  {
   "cell_type": "markdown",
   "id": "2836935d",
   "metadata": {},
   "source": [
    "## Method print_table(x_axis, y_axis, constant, entry, show_data):\n",
    "- show_data is set to be False by default\n",
    "- entry needs to be an outcome variable in data\n",
    "- x_axis and y_axis need to be one of unit/intervention/timestamp and x_axis and y_axis are different\n",
    "- constant needs to be the name in the other column among unit/intervention/timestamp apart from x_axis and y_axis\n",
    "- rows and columns with the largest numbers of values shown on upper left cornors"
   ]
  },
  {
   "cell_type": "code",
   "execution_count": 4,
   "id": "36cff839",
   "metadata": {},
   "outputs": [
    {
     "name": "stdout",
     "output_type": "stream",
     "text": [
      "Under Outcome force and Measurement 2 (X axis: unit, Y axis: intervention)\n",
      "+---+---+---+---+\n",
      "|   | 1 | 0 | 2 |\n",
      "+---+---+---+---+\n",
      "| 1 | * | * | * |\n",
      "| 2 | * | * |   |\n",
      "| 0 | * |   | * |\n",
      "| 5 |   |   |   |\n",
      "+---+---+---+---+\n"
     ]
    }
   ],
   "source": [
    "tensor.print_table(x_axis = 'unit', y_axis = 'intervention', constant = 2, entry = 'force')"
   ]
  },
  {
   "cell_type": "code",
   "execution_count": 5,
   "id": "f3871381",
   "metadata": {},
   "outputs": [
    {
     "name": "stdout",
     "output_type": "stream",
     "text": [
      "Under Outcome force and Measurement 2 (X axis: unit, Y axis: intervention)\n",
      "+---+------+------+------+\n",
      "|   |  1   |  0   |  2   |\n",
      "+---+------+------+------+\n",
      "| 1 | 33.0 | 15.0 | 51.0 |\n",
      "| 2 | 35.0 | 17.0 |      |\n",
      "| 0 | 31.0 |      | 49.0 |\n",
      "| 5 |      |      |      |\n",
      "+---+------+------+------+\n"
     ]
    }
   ],
   "source": [
    "tensor.print_table(x_axis = 'unit', y_axis = 'intervention', constant = 2, entry = 'force', show_data=True)"
   ]
  },
  {
   "cell_type": "code",
   "execution_count": 6,
   "id": "4b281631",
   "metadata": {},
   "outputs": [
    {
     "name": "stdout",
     "output_type": "stream",
     "text": [
      "Under Outcome force and Measurement 0 (X axis: unit, Y axis: intervention)\n",
      "+---+---+---+---+\n",
      "|   | 1 | 0 | 2 |\n",
      "+---+---+---+---+\n",
      "| 2 | * |   |   |\n",
      "| 1 |   |   |   |\n",
      "| 5 |   |   |   |\n",
      "| 0 |   |   |   |\n",
      "+---+---+---+---+\n"
     ]
    }
   ],
   "source": [
    "tensor.print_table(x_axis = 'unit', y_axis = 'intervention', constant = 0, entry = 'force')"
   ]
  },
  {
   "cell_type": "code",
   "execution_count": 7,
   "id": "fc931a22",
   "metadata": {},
   "outputs": [
    {
     "name": "stdout",
     "output_type": "stream",
     "text": [
      "Under Outcome force and Measurement 0 (X axis: unit, Y axis: intervention)\n",
      "+---+------+---+---+\n",
      "|   |  1   | 0 | 2 |\n",
      "+---+------+---+---+\n",
      "| 2 | 23.0 |   |   |\n",
      "| 1 |      |   |   |\n",
      "| 5 |      |   |   |\n",
      "| 0 |      |   |   |\n",
      "+---+------+---+---+\n"
     ]
    }
   ],
   "source": [
    "tensor.print_table(x_axis = 'unit', y_axis = 'intervention', constant = 0, entry = 'force', show_data = True)"
   ]
  },
  {
   "cell_type": "code",
   "execution_count": 8,
   "id": "8760723e",
   "metadata": {},
   "outputs": [],
   "source": [
    "# another correct example\n",
    "filename = \"data/sample_input.xlsx\"\n",
    "df, id_to_covariates = preprocessing.utils.preprocessing_utils.import_excel(filename)\n",
    "tensor = preprocessing.utils.preprocessing_utils.convert_to_tensor(df)"
   ]
  },
  {
   "cell_type": "code",
   "execution_count": 10,
   "id": "315c86f9",
   "metadata": {},
   "outputs": [
    {
     "name": "stdout",
     "output_type": "stream",
     "text": [
      "                               Summary of Data                                               \n",
      "==============================================================================\n",
      "No. units: 6    List of units: [1, 2, 3, 4, 5, a]\n",
      "No. measurements: 5    List of measurements: [0, 1, 2, 3, 4]\n",
      "No. interventions: 5    List of interventions: [0, 2, 3, 1, 4]\n",
      "No. outcomes: 2    List of outcomes: [outcome_1, outcome_2]\n",
      "==============================================================================\n",
      "                           Units under Measurements                                                   \n",
      "------------------------------------------------------------------------------\n",
      "                                  outcome_1                                            \n",
      "------------------------------------------------------------------------------\n",
      "Statistics of number of units under a measurement:\n",
      "Max: 6 units    Median: 6 units    Min: 6 units    Mean: 6.00 units\n",
      "------------------------------------------------------------------------------\n",
      "                                  outcome_2                                            \n",
      "------------------------------------------------------------------------------\n",
      "Statistics of number of units under a measurement:\n",
      "Max: 6 units    Median: 6 units    Min: 6 units    Mean: 6.00 units\n",
      "==============================================================================\n",
      "                          Units under Interventions                                                    \n",
      "------------------------------------------------------------------------------\n",
      "                                  outcome_1                                            \n",
      "------------------------------------------------------------------------------\n",
      "Statistics of number of units under a intervention:\n",
      "Max: 5 units    Median: 2 units    Min: 1 units    Mean: 2.40 units\n",
      "------------------------------------------------------------------------------\n",
      "                                  outcome_2                                            \n",
      "------------------------------------------------------------------------------\n",
      "Statistics of number of units under a intervention:\n",
      "Max: 5 units    Median: 2 units    Min: 1 units    Mean: 2.40 units\n"
     ]
    }
   ],
   "source": [
    "# Set verbose = True to see more detailed information\n",
    "tensor.print_info()"
   ]
  },
  {
   "cell_type": "code",
   "execution_count": 11,
   "id": "6c4e8fe2",
   "metadata": {},
   "outputs": [
    {
     "name": "stdout",
     "output_type": "stream",
     "text": [
      "                               Summary of Data                                               \n",
      "==============================================================================\n",
      "No. units: 6    List of units: [1, 2, 3, 4, 5, a]\n",
      "No. measurements: 5    List of measurements: [0, 1, 2, 3, 4]\n",
      "No. interventions: 5    List of interventions: [0, 2, 3, 1, 4]\n",
      "No. outcomes: 2    List of outcomes: [outcome_1, outcome_2]\n",
      "==============================================================================\n",
      "                           Units under Measurements                                                   \n",
      "------------------------------------------------------------------------------\n",
      "                                  outcome_1                                            \n",
      "------------------------------------------------------------------------------\n",
      "Measurement 0: 6 measurements    List of measurements: [1, 2, 3, 4, 5, a]\n",
      "Measurement 1: 6 measurements    List of measurements: [1, 2, 3, 4, 5, a]\n",
      "Measurement 2: 6 measurements    List of measurements: [1, 2, 3, 4, 5, a]\n",
      "Measurement 3: 6 measurements    List of measurements: [1, 2, 3, 4, 5, a]\n",
      "Measurement 4: 6 measurements    List of measurements: [1, 2, 3, 4, 5, a]\n",
      "Statistics of number of units under a measurement:\n",
      "Max: 6 units    Median: 6 units    Min: 6 units    Mean: 6.00 units\n",
      "------------------------------------------------------------------------------\n",
      "                                  outcome_2                                            \n",
      "------------------------------------------------------------------------------\n",
      "Measurement 0: 6 measurements    List of measurements: [1, 2, 3, 4, 5, a]\n",
      "Measurement 1: 6 measurements    List of measurements: [1, 2, 3, 4, 5, a]\n",
      "Measurement 2: 6 measurements    List of measurements: [1, 2, 3, 4, 5, a]\n",
      "Measurement 3: 6 measurements    List of measurements: [1, 2, 3, 4, 5, a]\n",
      "Measurement 4: 6 measurements    List of measurements: [1, 2, 3, 4, 5, a]\n",
      "Statistics of number of units under a measurement:\n",
      "Max: 6 units    Median: 6 units    Min: 6 units    Mean: 6.00 units\n",
      "==============================================================================\n",
      "                          Units under Interventions                                                    \n",
      "------------------------------------------------------------------------------\n",
      "                                  outcome_1                                            \n",
      "------------------------------------------------------------------------------\n",
      "Intervention 0: 5 interventions    List of interventions: [1, 2, 3, 4, a]\n",
      "Intervention 2: 2 interventions    List of interventions: [1, 4]\n",
      "Intervention 3: 1 interventions    List of interventions: [2]\n",
      "Intervention 1: 3 interventions    List of interventions: [3, 5, a]\n",
      "Intervention 4: 1 interventions    List of interventions: [5]\n",
      "Statistics of number of units under a intervention:\n",
      "Max: 5 units    Median: 2 units    Min: 1 units    Mean: 2.40 units\n",
      "------------------------------------------------------------------------------\n",
      "                                  outcome_2                                            \n",
      "------------------------------------------------------------------------------\n",
      "Intervention 0: 5 interventions    List of interventions: [1, 2, 3, 4, a]\n",
      "Intervention 2: 2 interventions    List of interventions: [1, 4]\n",
      "Intervention 3: 1 interventions    List of interventions: [2]\n",
      "Intervention 1: 3 interventions    List of interventions: [3, 5, a]\n",
      "Intervention 4: 1 interventions    List of interventions: [5]\n",
      "Statistics of number of units under a intervention:\n",
      "Max: 5 units    Median: 2 units    Min: 1 units    Mean: 2.40 units\n"
     ]
    }
   ],
   "source": [
    "# Set verbose = True to see more detailed information\n",
    "tensor.print_info(verbose = True)"
   ]
  },
  {
   "cell_type": "code",
   "execution_count": 12,
   "id": "da4976f4",
   "metadata": {},
   "outputs": [
    {
     "name": "stdout",
     "output_type": "stream",
     "text": [
      "Under Outcome outcome_1 and Intervention 0 (X axis: unit, Y axis: measurement)\n",
      "+---+---+---+---+---+---+---+\n",
      "|   | 1 | 2 | 3 | 4 | a | 5 |\n",
      "+---+---+---+---+---+---+---+\n",
      "| 0 | * | * | * | * | * |   |\n",
      "| 1 | * | * | * | * | * |   |\n",
      "| 2 | * | * | * | * | * |   |\n",
      "| 3 |   |   |   |   |   |   |\n",
      "| 4 |   |   |   |   |   |   |\n",
      "+---+---+---+---+---+---+---+\n"
     ]
    }
   ],
   "source": [
    "tensor.print_table(\"unit\", \"measurement\", 0, 'outcome_1')"
   ]
  },
  {
   "cell_type": "code",
   "execution_count": 13,
   "id": "8b01c688",
   "metadata": {},
   "outputs": [
    {
     "name": "stdout",
     "output_type": "stream",
     "text": [
      "Under Outcome outcome_1 and Unit a (X axis: measurement, Y axis: intervention)\n",
      "+---+---+---+---+---+---+\n",
      "|   | 0 | 1 | 2 | 3 | 4 |\n",
      "+---+---+---+---+---+---+\n",
      "| 0 | * | * | * |   |   |\n",
      "| 1 |   |   |   | * | * |\n",
      "| 2 |   |   |   |   |   |\n",
      "| 3 |   |   |   |   |   |\n",
      "| 4 |   |   |   |   |   |\n",
      "+---+---+---+---+---+---+\n"
     ]
    }
   ],
   "source": [
    "tensor.print_table(\"measurement\", \"intervention\", 'a', 'outcome_1')"
   ]
  },
  {
   "cell_type": "markdown",
   "id": "512e5402",
   "metadata": {},
   "source": [
    "# Error handling"
   ]
  },
  {
   "cell_type": "markdown",
   "id": "5400294a",
   "metadata": {},
   "source": [
    "## 1. if filename is incorrect/file does not exist\n",
    "show error message \"data/sample_policing_inputsss.xlsx file not found. Please check and try again.\""
   ]
  },
  {
   "cell_type": "code",
   "execution_count": 14,
   "id": "f6df33c7",
   "metadata": {
    "scrolled": true
   },
   "outputs": [
    {
     "ename": "ValueError",
     "evalue": "data/sample_policing_inputsss.xlsx file not found. Please check and try again.",
     "output_type": "error",
     "traceback": [
      "\u001b[0;31m---------------------------------------------------------------------------\u001b[0m",
      "\u001b[0;31mFileNotFoundError\u001b[0m                         Traceback (most recent call last)",
      "\u001b[0;32m~/Documents/research/synthetic-intervention/si-library/public-release/si-library/preprocessing/utils/preprocessing_utils.py\u001b[0m in \u001b[0;36mimport_excel\u001b[0;34m(filename, drop_duplicates)\u001b[0m\n\u001b[1;32m     46\u001b[0m     \u001b[0;32mtry\u001b[0m\u001b[0;34m:\u001b[0m\u001b[0;34m\u001b[0m\u001b[0;34m\u001b[0m\u001b[0m\n\u001b[0;32m---> 47\u001b[0;31m         \u001b[0mfile\u001b[0m \u001b[0;34m=\u001b[0m \u001b[0mpd\u001b[0m\u001b[0;34m.\u001b[0m\u001b[0mExcelFile\u001b[0m\u001b[0;34m(\u001b[0m\u001b[0mfilename\u001b[0m\u001b[0;34m)\u001b[0m\u001b[0;34m\u001b[0m\u001b[0;34m\u001b[0m\u001b[0m\n\u001b[0m\u001b[1;32m     48\u001b[0m     \u001b[0;32mexcept\u001b[0m \u001b[0mFileNotFoundError\u001b[0m\u001b[0;34m:\u001b[0m\u001b[0;34m\u001b[0m\u001b[0;34m\u001b[0m\u001b[0m\n",
      "\u001b[0;32m/Library/Frameworks/Python.framework/Versions/3.9/lib/python3.9/site-packages/pandas/io/excel/_base.py\u001b[0m in \u001b[0;36m__init__\u001b[0;34m(self, path_or_buffer, engine, storage_options)\u001b[0m\n\u001b[1;32m   1190\u001b[0m             \u001b[0;32melse\u001b[0m\u001b[0;34m:\u001b[0m\u001b[0;34m\u001b[0m\u001b[0;34m\u001b[0m\u001b[0m\n\u001b[0;32m-> 1191\u001b[0;31m                 ext = inspect_excel_format(\n\u001b[0m\u001b[1;32m   1192\u001b[0m                     \u001b[0mcontent_or_path\u001b[0m\u001b[0;34m=\u001b[0m\u001b[0mpath_or_buffer\u001b[0m\u001b[0;34m,\u001b[0m \u001b[0mstorage_options\u001b[0m\u001b[0;34m=\u001b[0m\u001b[0mstorage_options\u001b[0m\u001b[0;34m\u001b[0m\u001b[0;34m\u001b[0m\u001b[0m\n",
      "\u001b[0;32m/Library/Frameworks/Python.framework/Versions/3.9/lib/python3.9/site-packages/pandas/io/excel/_base.py\u001b[0m in \u001b[0;36minspect_excel_format\u001b[0;34m(content_or_path, storage_options)\u001b[0m\n\u001b[1;32m   1069\u001b[0m \u001b[0;34m\u001b[0m\u001b[0m\n\u001b[0;32m-> 1070\u001b[0;31m     with get_handle(\n\u001b[0m\u001b[1;32m   1071\u001b[0m         \u001b[0mcontent_or_path\u001b[0m\u001b[0;34m,\u001b[0m \u001b[0;34m\"rb\"\u001b[0m\u001b[0;34m,\u001b[0m \u001b[0mstorage_options\u001b[0m\u001b[0;34m=\u001b[0m\u001b[0mstorage_options\u001b[0m\u001b[0;34m,\u001b[0m \u001b[0mis_text\u001b[0m\u001b[0;34m=\u001b[0m\u001b[0;32mFalse\u001b[0m\u001b[0;34m\u001b[0m\u001b[0;34m\u001b[0m\u001b[0m\n",
      "\u001b[0;32m/Library/Frameworks/Python.framework/Versions/3.9/lib/python3.9/site-packages/pandas/io/common.py\u001b[0m in \u001b[0;36mget_handle\u001b[0;34m(path_or_buf, mode, encoding, compression, memory_map, is_text, errors, storage_options)\u001b[0m\n\u001b[1;32m    710\u001b[0m             \u001b[0;31m# Binary mode\u001b[0m\u001b[0;34m\u001b[0m\u001b[0;34m\u001b[0m\u001b[0m\n\u001b[0;32m--> 711\u001b[0;31m             \u001b[0mhandle\u001b[0m \u001b[0;34m=\u001b[0m \u001b[0mopen\u001b[0m\u001b[0;34m(\u001b[0m\u001b[0mhandle\u001b[0m\u001b[0;34m,\u001b[0m \u001b[0mioargs\u001b[0m\u001b[0;34m.\u001b[0m\u001b[0mmode\u001b[0m\u001b[0;34m)\u001b[0m\u001b[0;34m\u001b[0m\u001b[0;34m\u001b[0m\u001b[0m\n\u001b[0m\u001b[1;32m    712\u001b[0m         \u001b[0mhandles\u001b[0m\u001b[0;34m.\u001b[0m\u001b[0mappend\u001b[0m\u001b[0;34m(\u001b[0m\u001b[0mhandle\u001b[0m\u001b[0;34m)\u001b[0m\u001b[0;34m\u001b[0m\u001b[0;34m\u001b[0m\u001b[0m\n",
      "\u001b[0;31mFileNotFoundError\u001b[0m: [Errno 2] No such file or directory: 'data/sample_policing_inputsss.xlsx'",
      "\nDuring handling of the above exception, another exception occurred:\n",
      "\u001b[0;31mValueError\u001b[0m                                Traceback (most recent call last)",
      "\u001b[0;32m/var/folders/5_/ld1xwtt14ml907k0twvhd9q00000gn/T/ipykernel_3396/3163092101.py\u001b[0m in \u001b[0;36m<module>\u001b[0;34m\u001b[0m\n\u001b[1;32m      1\u001b[0m \u001b[0;31m# file not exists\u001b[0m\u001b[0;34m\u001b[0m\u001b[0;34m\u001b[0m\u001b[0m\n\u001b[1;32m      2\u001b[0m \u001b[0mfilename\u001b[0m \u001b[0;34m=\u001b[0m \u001b[0;34m\"data/sample_policing_inputsss.xlsx\"\u001b[0m\u001b[0;34m\u001b[0m\u001b[0;34m\u001b[0m\u001b[0m\n\u001b[0;32m----> 3\u001b[0;31m \u001b[0mdf\u001b[0m\u001b[0;34m,\u001b[0m \u001b[0mid_to_covariates\u001b[0m \u001b[0;34m=\u001b[0m \u001b[0mpreprocessing\u001b[0m\u001b[0;34m.\u001b[0m\u001b[0mutils\u001b[0m\u001b[0;34m.\u001b[0m\u001b[0mpreprocessing_utils\u001b[0m\u001b[0;34m.\u001b[0m\u001b[0mimport_excel\u001b[0m\u001b[0;34m(\u001b[0m\u001b[0mfilename\u001b[0m\u001b[0;34m)\u001b[0m\u001b[0;34m\u001b[0m\u001b[0;34m\u001b[0m\u001b[0m\n\u001b[0m",
      "\u001b[0;32m~/Documents/research/synthetic-intervention/si-library/public-release/si-library/preprocessing/utils/preprocessing_utils.py\u001b[0m in \u001b[0;36mimport_excel\u001b[0;34m(filename, drop_duplicates)\u001b[0m\n\u001b[1;32m     47\u001b[0m         \u001b[0mfile\u001b[0m \u001b[0;34m=\u001b[0m \u001b[0mpd\u001b[0m\u001b[0;34m.\u001b[0m\u001b[0mExcelFile\u001b[0m\u001b[0;34m(\u001b[0m\u001b[0mfilename\u001b[0m\u001b[0;34m)\u001b[0m\u001b[0;34m\u001b[0m\u001b[0;34m\u001b[0m\u001b[0m\n\u001b[1;32m     48\u001b[0m     \u001b[0;32mexcept\u001b[0m \u001b[0mFileNotFoundError\u001b[0m\u001b[0;34m:\u001b[0m\u001b[0;34m\u001b[0m\u001b[0;34m\u001b[0m\u001b[0m\n\u001b[0;32m---> 49\u001b[0;31m         \u001b[0;32mraise\u001b[0m \u001b[0mValueError\u001b[0m\u001b[0;34m(\u001b[0m\u001b[0;34m\"%s file not found. Please check and try again.\"\u001b[0m \u001b[0;34m%\u001b[0m \u001b[0mfilename\u001b[0m\u001b[0;34m)\u001b[0m\u001b[0;34m\u001b[0m\u001b[0;34m\u001b[0m\u001b[0m\n\u001b[0m\u001b[1;32m     50\u001b[0m \u001b[0;34m\u001b[0m\u001b[0m\n\u001b[1;32m     51\u001b[0m     \u001b[0mid_to_covariates\u001b[0m \u001b[0;34m=\u001b[0m \u001b[0;34m{\u001b[0m\u001b[0;34m'%s covariates'\u001b[0m \u001b[0;34m%\u001b[0m \u001b[0maxis1_name\u001b[0m\u001b[0;34m:\u001b[0m \u001b[0;32mNone\u001b[0m\u001b[0;34m,\u001b[0m \u001b[0;34m'%s covariates'\u001b[0m \u001b[0;34m%\u001b[0m \u001b[0maxis2_name\u001b[0m\u001b[0;34m:\u001b[0m \u001b[0;32mNone\u001b[0m\u001b[0;34m,\u001b[0m \u001b[0;34m'%s axis covariates'\u001b[0m \u001b[0;34m%\u001b[0m \u001b[0maxis3_name\u001b[0m\u001b[0;34m:\u001b[0m \u001b[0;32mNone\u001b[0m\u001b[0;34m}\u001b[0m\u001b[0;34m\u001b[0m\u001b[0;34m\u001b[0m\u001b[0m\n",
      "\u001b[0;31mValueError\u001b[0m: data/sample_policing_inputsss.xlsx file not found. Please check and try again."
     ]
    }
   ],
   "source": [
    "# file not exists\n",
    "filename = \"data/sample_policing_inputsss.xlsx\"\n",
    "df, id_to_covariates = preprocessing.utils.preprocessing_utils.import_excel(filename)"
   ]
  },
  {
   "cell_type": "markdown",
   "id": "b1b87976",
   "metadata": {},
   "source": [
    "## 2. if data worksheet is missing or named incorrectly\n",
    "show error message \"Data worksheet not found in file. Please refer to https://github.mit.edu/xyhan/si-library/blob/master/README.md#preprocessing.\""
   ]
  },
  {
   "cell_type": "code",
   "execution_count": 15,
   "id": "90f56b88",
   "metadata": {},
   "outputs": [
    {
     "ename": "ValueError",
     "evalue": "Worksheet data not found in file. Please refer to https://github.com/AnonTendim/si-library#readme.",
     "output_type": "error",
     "traceback": [
      "\u001b[0;31m---------------------------------------------------------------------------\u001b[0m",
      "\u001b[0;31mValueError\u001b[0m                                Traceback (most recent call last)",
      "\u001b[0;32m/var/folders/5_/ld1xwtt14ml907k0twvhd9q00000gn/T/ipykernel_3396/3072279494.py\u001b[0m in \u001b[0;36m<module>\u001b[0;34m\u001b[0m\n\u001b[1;32m      1\u001b[0m \u001b[0;31m# Data worksheet not in file\u001b[0m\u001b[0;34m\u001b[0m\u001b[0;34m\u001b[0m\u001b[0m\n\u001b[1;32m      2\u001b[0m \u001b[0mfilename\u001b[0m \u001b[0;34m=\u001b[0m \u001b[0;34m\"data/sample_no_data.xlsx\"\u001b[0m\u001b[0;34m\u001b[0m\u001b[0;34m\u001b[0m\u001b[0m\n\u001b[0;32m----> 3\u001b[0;31m \u001b[0mdf\u001b[0m\u001b[0;34m,\u001b[0m \u001b[0mid_to_covariates\u001b[0m \u001b[0;34m=\u001b[0m \u001b[0mpreprocessing\u001b[0m\u001b[0;34m.\u001b[0m\u001b[0mutils\u001b[0m\u001b[0;34m.\u001b[0m\u001b[0mpreprocessing_utils\u001b[0m\u001b[0;34m.\u001b[0m\u001b[0mimport_excel\u001b[0m\u001b[0;34m(\u001b[0m\u001b[0mfilename\u001b[0m\u001b[0;34m)\u001b[0m\u001b[0;34m\u001b[0m\u001b[0;34m\u001b[0m\u001b[0m\n\u001b[0m",
      "\u001b[0;32m~/Documents/research/synthetic-intervention/si-library/public-release/si-library/preprocessing/utils/preprocessing_utils.py\u001b[0m in \u001b[0;36mimport_excel\u001b[0;34m(filename, drop_duplicates)\u001b[0m\n\u001b[1;32m     53\u001b[0m     \u001b[0;31m# handle error cases: worksheets\u001b[0m\u001b[0;34m\u001b[0m\u001b[0;34m\u001b[0m\u001b[0m\n\u001b[1;32m     54\u001b[0m     \u001b[0;32mif\u001b[0m \u001b[0mdata_name\u001b[0m \u001b[0;32mnot\u001b[0m \u001b[0;32min\u001b[0m \u001b[0mfile\u001b[0m\u001b[0;34m.\u001b[0m\u001b[0msheet_names\u001b[0m\u001b[0;34m:\u001b[0m\u001b[0;34m\u001b[0m\u001b[0;34m\u001b[0m\u001b[0m\n\u001b[0;32m---> 55\u001b[0;31m         \u001b[0;32mraise\u001b[0m \u001b[0mValueError\u001b[0m\u001b[0;34m(\u001b[0m\u001b[0;34m'Worksheet %s not found in file. %s'\u001b[0m \u001b[0;34m%\u001b[0m \u001b[0;34m(\u001b[0m\u001b[0mdata_name\u001b[0m\u001b[0;34m,\u001b[0m \u001b[0mmanual\u001b[0m\u001b[0;34m)\u001b[0m\u001b[0;34m)\u001b[0m\u001b[0;34m\u001b[0m\u001b[0;34m\u001b[0m\u001b[0m\n\u001b[0m\u001b[1;32m     56\u001b[0m     \u001b[0;32mif\u001b[0m \u001b[0mlen\u001b[0m\u001b[0;34m(\u001b[0m\u001b[0mset\u001b[0m\u001b[0;34m(\u001b[0m\u001b[0mfile\u001b[0m\u001b[0;34m.\u001b[0m\u001b[0msheet_names\u001b[0m\u001b[0;34m)\u001b[0m \u001b[0;34m-\u001b[0m \u001b[0;34m{\u001b[0m\u001b[0mdata_name\u001b[0m\u001b[0;34m,\u001b[0m \u001b[0;34m'%s covariates'\u001b[0m \u001b[0;34m%\u001b[0m \u001b[0maxis1_name\u001b[0m\u001b[0;34m,\u001b[0m \u001b[0;34m'%s covariates'\u001b[0m \u001b[0;34m%\u001b[0m \u001b[0maxis2_name\u001b[0m\u001b[0;34m,\u001b[0m \u001b[0;34m'%s axis covariates'\u001b[0m \u001b[0;34m%\u001b[0m \u001b[0maxis3_name\u001b[0m\u001b[0;34m}\u001b[0m\u001b[0;34m)\u001b[0m \u001b[0;34m>\u001b[0m \u001b[0;36m1\u001b[0m\u001b[0;34m:\u001b[0m\u001b[0;34m\u001b[0m\u001b[0;34m\u001b[0m\u001b[0m\n\u001b[1;32m     57\u001b[0m         \u001b[0;32mraise\u001b[0m \u001b[0mValueError\u001b[0m\u001b[0;34m(\u001b[0m\u001b[0;34m'Irrelevant information found in file or incorrect naming of worksheets. '\u001b[0m \u001b[0;34m+\u001b[0m \u001b[0mmanual\u001b[0m\u001b[0;34m)\u001b[0m\u001b[0;34m\u001b[0m\u001b[0;34m\u001b[0m\u001b[0m\n",
      "\u001b[0;31mValueError\u001b[0m: Worksheet data not found in file. Please refer to https://github.com/AnonTendim/si-library#readme."
     ]
    }
   ],
   "source": [
    "# Data worksheet not in file\n",
    "filename = \"data/sample_no_data.xlsx\"\n",
    "df, id_to_covariates = preprocessing.utils.preprocessing_utils.import_excel(filename)"
   ]
  },
  {
   "cell_type": "markdown",
   "id": "d4fba998",
   "metadata": {},
   "source": [
    "## 3. if a column X is missing or named incorrectly\n",
    "show error message \"Missing or incorrect naming of X column in Data worksheet. Please refer to https://github.mit.edu/xyhan/si-library/blob/master/README.md#preprocessing.\""
   ]
  },
  {
   "cell_type": "code",
   "execution_count": 9,
   "id": "33e4548a",
   "metadata": {},
   "outputs": [
    {
     "ename": "ValueError",
     "evalue": "Missing or incorrect naming of time column in Data worksheet. Please refer to https://github.mit.edu/xyhan/si-library/blob/master/README.md#preprocessing.",
     "output_type": "error",
     "traceback": [
      "\u001b[0;31m---------------------------------------------------------------------------\u001b[0m",
      "\u001b[0;31mValueError\u001b[0m                                Traceback (most recent call last)",
      "\u001b[0;32m<ipython-input-9-f6986f2a9f8f>\u001b[0m in \u001b[0;36m<module>\u001b[0;34m\u001b[0m\n\u001b[1;32m      1\u001b[0m \u001b[0;31m# time column named incorrectly\u001b[0m\u001b[0;34m\u001b[0m\u001b[0;34m\u001b[0m\u001b[0;34m\u001b[0m\u001b[0m\n\u001b[1;32m      2\u001b[0m \u001b[0mfilename\u001b[0m \u001b[0;34m=\u001b[0m \u001b[0;34m\"data/sample_incorrect_naming.xlsx\"\u001b[0m\u001b[0;34m\u001b[0m\u001b[0;34m\u001b[0m\u001b[0m\n\u001b[0;32m----> 3\u001b[0;31m \u001b[0mdf\u001b[0m\u001b[0;34m,\u001b[0m \u001b[0mid_to_covariates\u001b[0m \u001b[0;34m=\u001b[0m \u001b[0mpreprocessing\u001b[0m\u001b[0;34m.\u001b[0m\u001b[0mutils\u001b[0m\u001b[0;34m.\u001b[0m\u001b[0mpreprocessing_utils\u001b[0m\u001b[0;34m.\u001b[0m\u001b[0mimport_excel\u001b[0m\u001b[0;34m(\u001b[0m\u001b[0mfilename\u001b[0m\u001b[0;34m)\u001b[0m\u001b[0;34m\u001b[0m\u001b[0;34m\u001b[0m\u001b[0m\n\u001b[0m",
      "\u001b[0;32m~/Desktop/research/synthetic_intervention/si-library/preprocessing/utils/preprocessing_utils.py\u001b[0m in \u001b[0;36mimport_excel\u001b[0;34m(filename, drop_duplicates)\u001b[0m\n\u001b[1;32m     42\u001b[0m     \u001b[0;32mfor\u001b[0m \u001b[0mitem\u001b[0m \u001b[0;32min\u001b[0m \u001b[0;34m[\u001b[0m\u001b[0;34m'unit'\u001b[0m\u001b[0;34m,\u001b[0m \u001b[0;34m'time'\u001b[0m\u001b[0;34m,\u001b[0m \u001b[0;34m'intervention'\u001b[0m\u001b[0;34m]\u001b[0m\u001b[0;34m:\u001b[0m\u001b[0;34m\u001b[0m\u001b[0;34m\u001b[0m\u001b[0m\n\u001b[1;32m     43\u001b[0m         \u001b[0;32mif\u001b[0m \u001b[0mitem\u001b[0m \u001b[0;32mnot\u001b[0m \u001b[0;32min\u001b[0m \u001b[0mdf\u001b[0m\u001b[0;34m.\u001b[0m\u001b[0mcolumns\u001b[0m\u001b[0;34m:\u001b[0m\u001b[0;34m\u001b[0m\u001b[0;34m\u001b[0m\u001b[0m\n\u001b[0;32m---> 44\u001b[0;31m             \u001b[0;32mraise\u001b[0m \u001b[0mValueError\u001b[0m\u001b[0;34m(\u001b[0m\u001b[0;34m'Missing or incorrect naming of %s column in Data worksheet. %s'\u001b[0m \u001b[0;34m%\u001b[0m \u001b[0;34m(\u001b[0m\u001b[0mitem\u001b[0m\u001b[0;34m,\u001b[0m \u001b[0mmanuel\u001b[0m\u001b[0;34m)\u001b[0m\u001b[0;34m)\u001b[0m\u001b[0;34m\u001b[0m\u001b[0;34m\u001b[0m\u001b[0m\n\u001b[0m\u001b[1;32m     45\u001b[0m     \u001b[0;32mfor\u001b[0m \u001b[0mitem\u001b[0m \u001b[0;32min\u001b[0m \u001b[0mdf\u001b[0m\u001b[0;34m.\u001b[0m\u001b[0mcolumns\u001b[0m\u001b[0;34m[\u001b[0m\u001b[0;36m3\u001b[0m\u001b[0;34m:\u001b[0m\u001b[0;34m]\u001b[0m\u001b[0;34m:\u001b[0m\u001b[0;34m\u001b[0m\u001b[0;34m\u001b[0m\u001b[0m\n\u001b[1;32m     46\u001b[0m         \u001b[0;32mif\u001b[0m \u001b[0;32mnot\u001b[0m \u001b[0mpd\u001b[0m\u001b[0;34m.\u001b[0m\u001b[0mapi\u001b[0m\u001b[0;34m.\u001b[0m\u001b[0mtypes\u001b[0m\u001b[0;34m.\u001b[0m\u001b[0mis_numeric_dtype\u001b[0m\u001b[0;34m(\u001b[0m\u001b[0mdf\u001b[0m\u001b[0;34m[\u001b[0m\u001b[0mitem\u001b[0m\u001b[0;34m]\u001b[0m\u001b[0;34m)\u001b[0m\u001b[0;34m:\u001b[0m\u001b[0;34m\u001b[0m\u001b[0;34m\u001b[0m\u001b[0m\n",
      "\u001b[0;31mValueError\u001b[0m: Missing or incorrect naming of time column in Data worksheet. Please refer to https://github.mit.edu/xyhan/si-library/blob/master/README.md#preprocessing."
     ]
    }
   ],
   "source": [
    "# time column named incorrectly\n",
    "filename = \"data/sample_incorrect_naming.xlsx\"\n",
    "df, id_to_covariates = preprocessing.utils.preprocessing_utils.import_excel(filename)"
   ]
  },
  {
   "cell_type": "markdown",
   "id": "8f5b2c77",
   "metadata": {},
   "source": [
    "## 4. if non-numeric values found in outcome columns\n",
    "show error message \"Non-numeric data found in column force of Data. Please refer to https://github.mit.edu/xyhan/si-library/blob/master/README.md#preprocessing.\"\n",
    "\n",
    "Note that unit/time/intervention units can hold integer/string/float data but outcome columns can only hold numeric data."
   ]
  },
  {
   "cell_type": "code",
   "execution_count": 10,
   "id": "6e6602ce",
   "metadata": {},
   "outputs": [
    {
     "ename": "ValueError",
     "evalue": "Non-numeric data found in column force of Data. Please refer to https://github.mit.edu/xyhan/si-library/blob/master/README.md#preprocessing.",
     "output_type": "error",
     "traceback": [
      "\u001b[0;31m---------------------------------------------------------------------------\u001b[0m",
      "\u001b[0;31mValueError\u001b[0m                                Traceback (most recent call last)",
      "\u001b[0;32m<ipython-input-10-310c96a6a973>\u001b[0m in \u001b[0;36m<module>\u001b[0;34m\u001b[0m\n\u001b[1;32m      1\u001b[0m \u001b[0;31m# string data in outcomes\u001b[0m\u001b[0;34m\u001b[0m\u001b[0;34m\u001b[0m\u001b[0;34m\u001b[0m\u001b[0m\n\u001b[1;32m      2\u001b[0m \u001b[0mfilename\u001b[0m \u001b[0;34m=\u001b[0m \u001b[0;34m\"data/sample_string_outcome.xlsx\"\u001b[0m\u001b[0;34m\u001b[0m\u001b[0;34m\u001b[0m\u001b[0m\n\u001b[0;32m----> 3\u001b[0;31m \u001b[0mdf\u001b[0m\u001b[0;34m,\u001b[0m \u001b[0mid_to_covariates\u001b[0m \u001b[0;34m=\u001b[0m \u001b[0mpreprocessing\u001b[0m\u001b[0;34m.\u001b[0m\u001b[0mutils\u001b[0m\u001b[0;34m.\u001b[0m\u001b[0mpreprocessing_utils\u001b[0m\u001b[0;34m.\u001b[0m\u001b[0mimport_excel\u001b[0m\u001b[0;34m(\u001b[0m\u001b[0mfilename\u001b[0m\u001b[0;34m)\u001b[0m\u001b[0;34m\u001b[0m\u001b[0;34m\u001b[0m\u001b[0m\n\u001b[0m",
      "\u001b[0;32m~/Desktop/research/synthetic_intervention/si-library/preprocessing/utils/preprocessing_utils.py\u001b[0m in \u001b[0;36mimport_excel\u001b[0;34m(filename, drop_duplicates)\u001b[0m\n\u001b[1;32m     45\u001b[0m     \u001b[0;32mfor\u001b[0m \u001b[0mitem\u001b[0m \u001b[0;32min\u001b[0m \u001b[0mdf\u001b[0m\u001b[0;34m.\u001b[0m\u001b[0mcolumns\u001b[0m\u001b[0;34m[\u001b[0m\u001b[0;36m3\u001b[0m\u001b[0;34m:\u001b[0m\u001b[0;34m]\u001b[0m\u001b[0;34m:\u001b[0m\u001b[0;34m\u001b[0m\u001b[0;34m\u001b[0m\u001b[0m\n\u001b[1;32m     46\u001b[0m         \u001b[0;32mif\u001b[0m \u001b[0;32mnot\u001b[0m \u001b[0mpd\u001b[0m\u001b[0;34m.\u001b[0m\u001b[0mapi\u001b[0m\u001b[0;34m.\u001b[0m\u001b[0mtypes\u001b[0m\u001b[0;34m.\u001b[0m\u001b[0mis_numeric_dtype\u001b[0m\u001b[0;34m(\u001b[0m\u001b[0mdf\u001b[0m\u001b[0;34m[\u001b[0m\u001b[0mitem\u001b[0m\u001b[0;34m]\u001b[0m\u001b[0;34m)\u001b[0m\u001b[0;34m:\u001b[0m\u001b[0;34m\u001b[0m\u001b[0;34m\u001b[0m\u001b[0m\n\u001b[0;32m---> 47\u001b[0;31m             \u001b[0;32mraise\u001b[0m \u001b[0mValueError\u001b[0m\u001b[0;34m(\u001b[0m\u001b[0;34m'Non-numeric data found in column %s of Data. %s'\u001b[0m \u001b[0;34m%\u001b[0m \u001b[0;34m(\u001b[0m\u001b[0mitem\u001b[0m\u001b[0;34m,\u001b[0m \u001b[0mmanuel\u001b[0m\u001b[0;34m)\u001b[0m\u001b[0;34m)\u001b[0m\u001b[0;34m\u001b[0m\u001b[0;34m\u001b[0m\u001b[0m\n\u001b[0m\u001b[1;32m     48\u001b[0m \u001b[0;34m\u001b[0m\u001b[0m\n\u001b[1;32m     49\u001b[0m     \u001b[0;32mif\u001b[0m \u001b[0mdrop_duplicates\u001b[0m\u001b[0;34m:\u001b[0m\u001b[0;34m\u001b[0m\u001b[0;34m\u001b[0m\u001b[0m\n",
      "\u001b[0;31mValueError\u001b[0m: Non-numeric data found in column force of Data. Please refer to https://github.mit.edu/xyhan/si-library/blob/master/README.md#preprocessing."
     ]
    }
   ],
   "source": [
    "# string data in outcomes\n",
    "filename = \"data/sample_string_outcome.xlsx\"\n",
    "df, id_to_covariates = preprocessing.utils.preprocessing_utils.import_excel(filename)"
   ]
  }
 ],
 "metadata": {
  "kernelspec": {
   "display_name": "Python 3 (ipykernel)",
   "language": "python",
   "name": "python3"
  },
  "language_info": {
   "codemirror_mode": {
    "name": "ipython",
    "version": 3
   },
   "file_extension": ".py",
   "mimetype": "text/x-python",
   "name": "python",
   "nbconvert_exporter": "python",
   "pygments_lexer": "ipython3",
   "version": "3.9.7"
  }
 },
 "nbformat": 4,
 "nbformat_minor": 5
}
